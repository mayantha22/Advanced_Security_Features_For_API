{
 "cells": [
  {
   "cell_type": "markdown",
   "id": "e87d972b",
   "metadata": {
    "id": "e87d972b"
   },
   "source": [
    "# Advanced Security Features with Visualization\n",
    "This notebook demonstrates the implementation of advanced security features including IP geolocation, whitelisting, geofencing, and incident response integration. We also include visualizations to monitor and analyze security data."
   ]
  },
  {
   "cell_type": "code",
   "execution_count": 132,
   "id": "806af6a2",
   "metadata": {
    "id": "806af6a2"
   },
   "outputs": [],
   "source": [
    "import pandas as pd\n",
    "import numpy as np\n",
    "import random\n",
    "from geoip2.database import Reader\n",
    "import matplotlib.pyplot as plt\n",
    "from shapely.geometry import Point, Polygon\n",
    "import folium\n",
    "import geopandas as gpd\n",
    "import seaborn as sns\n",
    "from datetime import datetime\n",
    "import ipfshttpclient\n",
    "import streamlit as st\n",
    "from sklearn.model_selection import train_test_split\n",
    "import random\n",
    "import matplotlib.colors as mcolors\n",
    "from sklearn.ensemble import RandomForestClassifier\n",
    "from sklearn.model_selection import train_test_split, cross_val_score\n",
    "from sklearn.metrics import classification_report"
   ]
  },
  {
   "cell_type": "markdown",
   "id": "432ca95a",
   "metadata": {},
   "source": [
    "# Load dataset"
   ]
  },
  {
   "cell_type": "code",
   "execution_count": 133,
   "id": "f1f10bb0",
   "metadata": {},
   "outputs": [],
   "source": [
    "file_path = '../data/Whitelisted_Locations_Dataset.csv'\n",
    "whitelisted_df = pd.read_csv(file_path)\n",
    "gdf_whitelisted = gpd.GeoDataFrame(whitelisted_df, geometry=gpd.points_from_xy(whitelisted_df.Longitude, whitelisted_df.Latitude))"
   ]
  },
  {
   "cell_type": "markdown",
   "id": "460c9a22",
   "metadata": {},
   "source": [
    "# Simulate IP Geolocation Data"
   ]
  },
  {
   "cell_type": "code",
   "execution_count": 134,
   "id": "2696d3fb",
   "metadata": {},
   "outputs": [],
   "source": [
    "def simulate_ip_geolocation(num_entries, whitelisted_gdf):\n",
    "    data = {'Latitude': [], 'Longitude': [], 'Access': []}\n",
    "    # Simulate both whitelisted and non-whitelisted entries\n",
    "    for _ in range(num_entries):\n",
    "        if random.random() > 0.5:  # Randomly decide if the entry is whitelisted\n",
    "            idx = random.choice(whitelisted_gdf.index)\n",
    "            lat, lon = whitelisted_gdf.loc[idx, ['Latitude', 'Longitude']]\n",
    "            access = 'Granted'\n",
    "        else:\n",
    "            lat = random.uniform(-90, 90)\n",
    "            lon = random.uniform(-180, 180)\n",
    "            point = Point(lon, lat)\n",
    "            access = 'Granted' if whitelisted_gdf.contains(point).any() else 'Denied'\n",
    "        data['Latitude'].append(lat)\n",
    "        data['Longitude'].append(lon)\n",
    "        data['Access'].append(access)\n",
    "    return pd.DataFrame(data)"
   ]
  },
  {
   "cell_type": "markdown",
   "id": "8eb5c174",
   "metadata": {},
   "source": [
    "# Generate dataset"
   ]
  },
  {
   "cell_type": "code",
   "execution_count": 135,
   "id": "51416ab7",
   "metadata": {},
   "outputs": [],
   "source": [
    "dataset = simulate_ip_geolocation(100, gdf_whitelisted)"
   ]
  },
  {
   "cell_type": "markdown",
   "id": "172535bb",
   "metadata": {},
   "source": [
    "# Plotting access logs with Folium"
   ]
  },
  {
   "cell_type": "code",
   "execution_count": 136,
   "id": "82a1680d",
   "metadata": {},
   "outputs": [],
   "source": [
    "def plot_access_logs_folium(df):\n",
    "    m = folium.Map(location=[0, 0], zoom_start=2)\n",
    "    for _, row in df.iterrows():\n",
    "        color = 'green' if row['Access'] == 'Granted' else 'red'\n",
    "        folium.CircleMarker(location=(row['Latitude'], row['Longitude']),\n",
    "                            radius=5,\n",
    "                            color=color,\n",
    "                            fill=True).add_to(m)\n",
    "    return m"
   ]
  },
  {
   "cell_type": "markdown",
   "id": "cf4e6f5a",
   "metadata": {},
   "source": [
    "# Generate and display the map"
   ]
  },
  {
   "cell_type": "code",
   "execution_count": 137,
   "id": "9caccc41",
   "metadata": {},
   "outputs": [],
   "source": [
    "map = plot_access_logs_folium(dataset)\n",
    "map.save('map.html')"
   ]
  },
  {
   "cell_type": "markdown",
   "id": "1c18e820",
   "metadata": {},
   "source": [
    "# Prepare data for ML"
   ]
  },
  {
   "cell_type": "code",
   "execution_count": 138,
   "id": "9f72adc5",
   "metadata": {},
   "outputs": [],
   "source": [
    "features = dataset[['Latitude', 'Longitude']]\n",
    "labels = dataset['Access'].apply(lambda x: 1 if x == 'Granted' else 0)"
   ]
  },
  {
   "cell_type": "markdown",
   "id": "da593adb",
   "metadata": {},
   "source": [
    "# Train and evaluate model"
   ]
  },
  {
   "cell_type": "code",
   "execution_count": 139,
   "id": "a42725f5",
   "metadata": {},
   "outputs": [
    {
     "name": "stdout",
     "output_type": "stream",
     "text": [
      "Cross-validated scores: [1. 1. 1. 1. 1.]\n"
     ]
    }
   ],
   "source": [
    "X_train, X_test, y_train, y_test = train_test_split(features, labels, test_size=0.2, random_state=42)\n",
    "model = RandomForestClassifier(n_estimators=100, random_state=42)\n",
    "model.fit(X_train, y_train)\n",
    "scores = cross_val_score(model, X_train, y_train, cv=5)\n",
    "print(\"Cross-validated scores:\", scores)"
   ]
  },
  {
   "cell_type": "markdown",
   "id": "a5262bd8",
   "metadata": {},
   "source": [
    "# Predict and evaluate on the test set"
   ]
  },
  {
   "cell_type": "code",
   "execution_count": 151,
   "id": "e4a55741",
   "metadata": {},
   "outputs": [
    {
     "name": "stdout",
     "output_type": "stream",
     "text": [
      "Test set report:\n",
      "              precision    recall  f1-score   support\n",
      "\n",
      "           0       0.95      0.93      0.94       135\n",
      "           1       0.92      0.94      0.93       115\n",
      "\n",
      "    accuracy                           0.93       250\n",
      "   macro avg       0.93      0.93      0.93       250\n",
      "weighted avg       0.93      0.93      0.93       250\n",
      "\n"
     ]
    }
   ],
   "source": [
    "test_predictions = model.predict(X_test)\n",
    "print(\"Test set report:\")\n",
    "print(classification_report(y_test, test_predictions))\n"
   ]
  },
  {
   "cell_type": "markdown",
   "id": "7c111725",
   "metadata": {},
   "source": [
    "# Visualization of decision boundaries"
   ]
  },
  {
   "cell_type": "code",
   "execution_count": 141,
   "id": "070e0e76",
   "metadata": {},
   "outputs": [
    {
     "name": "stderr",
     "output_type": "stream",
     "text": [
      "c:\\Python311\\Lib\\site-packages\\sklearn\\base.py:493: UserWarning: X does not have valid feature names, but RandomForestClassifier was fitted with feature names\n",
      "  warnings.warn(\n"
     ]
    },
    {
     "data": {
      "image/png": "[encoded data removed]",
      "text/plain": [
       "<Figure size 640x480 with 1 Axes>"
      ]
     },
     "metadata": {},
     "output_type": "display_data"
    }
   ],
   "source": [
    "def plot_decision_boundaries(X, y, model, ax):\n",
    "    cmap_light = mcolors.ListedColormap(['#FFAAAA', '#AAFFAA'])\n",
    "    cmap_bold = mcolors.ListedColormap(['#FF0000', '#00FF00'])\n",
    "\n",
    "    x_min, x_max = X.iloc[:, 0].min() - 1, X.iloc[:, 0].max() + 1\n",
    "    y_min, y_max = X.iloc[:, 1].min() - 1, X.iloc[:, 1].max() + 1\n",
    "    xx, yy = np.meshgrid(np.linspace(x_min, x_max, 100),\n",
    "                         np.linspace(y_min, y_max, 100))\n",
    "\n",
    "    Z = model.predict(np.c_[xx.ravel(), yy.ravel()])\n",
    "    Z = Z.reshape(xx.shape)\n",
    "    ax.pcolormesh(xx, yy, Z, cmap=cmap_light)\n",
    "    ax.scatter(X.iloc[:, 0], X.iloc[:, 1], c=y, cmap=cmap_bold, edgecolor='k', s=20)\n",
    "    ax.set_xlim(xx.min(), xx.max())\n",
    "    ax.set_ylim(yy.min(), yy.max())\n",
    "    ax.set_title('Decision Boundaries')\n",
    "\n",
    "fig, ax = plt.subplots()\n",
    "plot_decision_boundaries(X_train, y_train, model, ax)\n",
    "plt.show()"
   ]
  },
  {
   "cell_type": "markdown",
   "id": "b9b407e8",
   "metadata": {
    "id": "b9b407e8"
   },
   "source": [
    "## Generate Dataset for IP Geolocation and Access Management\n",
    "We start by creating a mock dataset of IP addresses with assigned geolocation data and access status based on simulated geofencing."
   ]
  },
  {
   "cell_type": "code",
   "execution_count": 142,
   "id": "63438e82",
   "metadata": {
    "colab": {
     "base_uri": "https://localhost:8080/",
     "height": 206
    },
    "id": "63438e82",
    "outputId": "eb8a577c-267b-4bbf-f782-b7260a966948"
   },
   "outputs": [
    {
     "data": {
      "text/html": [
       "<div>\n",
       "<style scoped>\n",
       "    .dataframe tbody tr th:only-of-type {\n",
       "        vertical-align: middle;\n",
       "    }\n",
       "\n",
       "    .dataframe tbody tr th {\n",
       "        vertical-align: top;\n",
       "    }\n",
       "\n",
       "    .dataframe thead th {\n",
       "        text-align: right;\n",
       "    }\n",
       "</style>\n",
       "<table border=\"1\" class=\"dataframe\">\n",
       "  <thead>\n",
       "    <tr style=\"text-align: right;\">\n",
       "      <th></th>\n",
       "      <th>IP</th>\n",
       "      <th>Latitude</th>\n",
       "      <th>Longitude</th>\n",
       "      <th>Access</th>\n",
       "    </tr>\n",
       "  </thead>\n",
       "  <tbody>\n",
       "    <tr>\n",
       "      <th>0</th>\n",
       "      <td>230.205.158.252</td>\n",
       "      <td>-24.042221</td>\n",
       "      <td>-28.468157</td>\n",
       "      <td>Granted</td>\n",
       "    </tr>\n",
       "    <tr>\n",
       "      <th>1</th>\n",
       "      <td>62.43.121.140</td>\n",
       "      <td>17.617557</td>\n",
       "      <td>168.838471</td>\n",
       "      <td>Denied</td>\n",
       "    </tr>\n",
       "    <tr>\n",
       "      <th>2</th>\n",
       "      <td>60.174.140.133</td>\n",
       "      <td>-79.319424</td>\n",
       "      <td>32.350252</td>\n",
       "      <td>Denied</td>\n",
       "    </tr>\n",
       "    <tr>\n",
       "      <th>3</th>\n",
       "      <td>21.191.149.15</td>\n",
       "      <td>53.561064</td>\n",
       "      <td>-80.232544</td>\n",
       "      <td>Denied</td>\n",
       "    </tr>\n",
       "    <tr>\n",
       "      <th>4</th>\n",
       "      <td>23.156.129.176</td>\n",
       "      <td>-21.566744</td>\n",
       "      <td>-166.823307</td>\n",
       "      <td>Denied</td>\n",
       "    </tr>\n",
       "  </tbody>\n",
       "</table>\n",
       "</div>"
      ],
      "text/plain": [
       "                IP   Latitude   Longitude   Access\n",
       "0  230.205.158.252 -24.042221  -28.468157  Granted\n",
       "1    62.43.121.140  17.617557  168.838471   Denied\n",
       "2   60.174.140.133 -79.319424   32.350252   Denied\n",
       "3    21.191.149.15  53.561064  -80.232544   Denied\n",
       "4   23.156.129.176 -21.566744 -166.823307   Denied"
      ]
     },
     "execution_count": 142,
     "metadata": {},
     "output_type": "execute_result"
    }
   ],
   "source": [
    "def generate_random_ip():\n",
    "    return '.'.join(str(random.randint(0, 255)) for _ in range(4))\n",
    "\n",
    "def create_dataset(num_entries):\n",
    "    data = {'IP': [generate_random_ip() for _ in range(num_entries)],\n",
    "            'Latitude': [random.uniform(-90, 90) for _ in range(num_entries)],\n",
    "            'Longitude': [random.uniform(-180, 180) for _ in range(num_entries)],\n",
    "            'Access': []}\n",
    "    for i in range(num_entries):\n",
    "        if -50 <= data['Latitude'][i] <= 50 and -50 <= data['Longitude'][i] <= 50:\n",
    "            data['Access'].append('Granted')\n",
    "        else:\n",
    "            data['Access'].append('Denied')\n",
    "    return pd.DataFrame(data)\n",
    "\n",
    "dataset = create_dataset(100)\n",
    "dataset.head()"
   ]
  },
  {
   "cell_type": "markdown",
   "id": "eb99cb6b",
   "metadata": {
    "id": "eb99cb6b"
   },
   "source": [
    "## Visualizing Access Logs\n",
    "We will plot the geographic locations of IP addresses to visualize where access attempts are coming from and how they correlate with access status."
   ]
  },
  {
   "cell_type": "code",
   "execution_count": 143,
   "id": "9497a382",
   "metadata": {
    "colab": {
     "base_uri": "https://localhost:8080/",
     "height": 564
    },
    "id": "9497a382",
    "outputId": "7cc4ffd0-977d-4016-dea6-cb81a953cf9c"
   },
   "outputs": [
    {
     "data": {
      "image/png": "[encoded data removed]",
      "text/plain": [
       "<Figure size 1000x600 with 1 Axes>"
      ]
     },
     "metadata": {},
     "output_type": "display_data"
    }
   ],
   "source": [
    "def plot_access_logs(df):\n",
    "    fig, ax = plt.subplots(figsize=(10, 6))\n",
    "    for _, row in df.iterrows():\n",
    "        color = 'green' if row['Access'] == 'Granted' else 'red'\n",
    "        ax.plot(row['Longitude'], row['Latitude'], 'o', color=color)\n",
    "    ax.set_title('Geolocation of Access Requests')\n",
    "    ax.set_xlabel('Longitude')\n",
    "    ax.set_ylabel('Latitude')\n",
    "    plt.show()\n",
    "\n",
    "plot_access_logs(dataset)"
   ]
  },
  {
   "cell_type": "markdown",
   "id": "89aa8a68",
   "metadata": {
    "id": "89aa8a68"
   },
   "source": [
    "## Incident Response Integration\n",
    "Next, we simulate the generation of incident logs for denied access attempts and visualize the frequency of incidents."
   ]
  },
  {
   "cell_type": "code",
   "execution_count": 144,
   "id": "06097cb2",
   "metadata": {
    "colab": {
     "base_uri": "https://localhost:8080/",
     "height": 206
    },
    "id": "06097cb2",
    "outputId": "30091b0a-e94f-418c-fa83-3a23c39436aa"
   },
   "outputs": [
    {
     "name": "stdout",
     "output_type": "stream",
     "text": [
      "Initial Access Data:\n",
      "                IP   Latitude   Longitude  Access\n",
      "0    52.144.24.216 -56.483969 -168.623968  Denied\n",
      "1   112.143.138.80 -45.400968  175.496752  Denied\n",
      "2   40.182.107.100 -68.770208  178.272550  Denied\n",
      "3  211.153.159.223 -25.273061  149.566618  Denied\n",
      "4    36.220.143.38 -25.204827  116.367779  Denied\n",
      "\n",
      "Generated Incident Logs:\n",
      "                IP   Latitude   Longitude  Access                       Time  \\\n",
      "0    52.144.24.216 -56.483969 -168.623968  Denied 2024-05-06 09:45:58.044195   \n",
      "1   112.143.138.80 -45.400968  175.496752  Denied 2024-05-06 09:45:58.044195   \n",
      "2   40.182.107.100 -68.770208  178.272550  Denied 2024-05-06 09:45:58.044195   \n",
      "3  211.153.159.223 -25.273061  149.566618  Denied 2024-05-06 09:45:58.044195   \n",
      "4    36.220.143.38 -25.204827  116.367779  Denied 2024-05-06 09:45:58.044195   \n",
      "\n",
      "         Incident_Type    Response  \n",
      "0  Unauthorized Access  Alert Sent  \n",
      "1  Unauthorized Access  Alert Sent  \n",
      "2  Unauthorized Access  Alert Sent  \n",
      "3  Unauthorized Access  Alert Sent  \n",
      "4  Unauthorized Access  Alert Sent  \n"
     ]
    }
   ],
   "source": [
    "def generate_incident_logs(df):\n",
    "    now = datetime.now()\n",
    "    incidents = df[df['Access'] == 'Denied'].copy()\n",
    "    incidents['Time'] = now\n",
    "    incidents['Incident_Type'] = 'Unauthorized Access'\n",
    "    incidents['Response'] = 'Alert Sent'\n",
    "    return incidents\n",
    "\n",
    "incident_logs = generate_incident_logs(df)\n",
    "\n",
    "print(\"Initial Access Data:\")\n",
    "print(df)\n",
    "print(\"\\nGenerated Incident Logs:\")\n",
    "print(incident_logs)"
   ]
  },
  {
   "cell_type": "markdown",
   "id": "dbb69e9e",
   "metadata": {
    "id": "dbb69e9e"
   },
   "source": [
    "## Machine Learning Model for Anomaly Detection\n",
    "We will build a machine learning model to identify potential security anomalies based on geolocation data."
   ]
  },
  {
   "cell_type": "code",
   "execution_count": 145,
   "id": "73dad540",
   "metadata": {
    "colab": {
     "base_uri": "https://localhost:8080/"
    },
    "id": "73dad540",
    "outputId": "dccc0f09-d113-4421-9734-a4a6ed498520"
   },
   "outputs": [
    {
     "name": "stdout",
     "output_type": "stream",
     "text": [
      "              precision    recall  f1-score   support\n",
      "\n",
      "           0       0.93      1.00      0.96        13\n",
      "           1       1.00      0.86      0.92         7\n",
      "\n",
      "    accuracy                           0.95        20\n",
      "   macro avg       0.96      0.93      0.94        20\n",
      "weighted avg       0.95      0.95      0.95        20\n",
      "\n"
     ]
    }
   ],
   "source": [
    "from sklearn.model_selection import train_test_split\n",
    "from sklearn.ensemble import RandomForestClassifier\n",
    "from sklearn.metrics import classification_report\n",
    "\n",
    "# Prepare data\n",
    "features = dataset[['Latitude', 'Longitude']]\n",
    "labels = dataset['Access'].apply(lambda x: 1 if x == 'Granted' else 0)\n",
    "\n",
    "# Split data\n",
    "X_train, X_test, y_train, y_test = train_test_split(features, labels, test_size=0.2, random_state=42)\n",
    "\n",
    "# Train model\n",
    "model = RandomForestClassifier(n_estimators=100, random_state=42)\n",
    "model.fit(X_train, y_train)\n",
    "\n",
    "# Evaluate model\n",
    "predictions = model.predict(X_test)\n",
    "print(classification_report(y_test, predictions))"
   ]
  },
  {
   "cell_type": "markdown",
   "id": "d35d9388",
   "metadata": {
    "id": "d35d9388"
   },
   "source": [
    "## Model Visualization\n",
    "Visualize the decision boundaries of the trained model to understand how it differentiates between 'Granted' and 'Denied' access."
   ]
  },
  {
   "cell_type": "code",
   "execution_count": 146,
   "id": "a7EPJHLlAAJk",
   "metadata": {
    "colab": {
     "base_uri": "https://localhost:8080/",
     "height": 75
    },
    "id": "a7EPJHLlAAJk",
    "outputId": "251aa48a-0c01-4ad7-a684-07b4bc97ff35"
   },
   "outputs": [
    {
     "data": {
      "text/html": [
       "<style>#sk-container-id-6 {\n",
       "  /* Definition of color scheme common for light and dark mode */\n",
       "  --sklearn-color-text: black;\n",
       "  --sklearn-color-line: gray;\n",
       "  /* Definition of color scheme for unfitted estimators */\n",
       "  --sklearn-color-unfitted-level-0: #fff5e6;\n",
       "  --sklearn-color-unfitted-level-1: #f6e4d2;\n",
       "  --sklearn-color-unfitted-level-2: #ffe0b3;\n",
       "  --sklearn-color-unfitted-level-3: chocolate;\n",
       "  /* Definition of color scheme for fitted estimators */\n",
       "  --sklearn-color-fitted-level-0: #f0f8ff;\n",
       "  --sklearn-color-fitted-level-1: #d4ebff;\n",
       "  --sklearn-color-fitted-level-2: #b3dbfd;\n",
       "  --sklearn-color-fitted-level-3: cornflowerblue;\n",
       "\n",
       "  /* Specific color for light theme */\n",
       "  --sklearn-color-text-on-default-background: var(--sg-text-color, var(--theme-code-foreground, var(--jp-content-font-color1, black)));\n",
       "  --sklearn-color-background: var(--sg-background-color, var(--theme-background, var(--jp-layout-color0, white)));\n",
       "  --sklearn-color-border-box: var(--sg-text-color, var(--theme-code-foreground, var(--jp-content-font-color1, black)));\n",
       "  --sklearn-color-icon: #696969;\n",
       "\n",
       "  @media (prefers-color-scheme: dark) {\n",
       "    /* Redefinition of color scheme for dark theme */\n",
       "    --sklearn-color-text-on-default-background: var(--sg-text-color, var(--theme-code-foreground, var(--jp-content-font-color1, white)));\n",
       "    --sklearn-color-background: var(--sg-background-color, var(--theme-background, var(--jp-layout-color0, #111)));\n",
       "    --sklearn-color-border-box: var(--sg-text-color, var(--theme-code-foreground, var(--jp-content-font-color1, white)));\n",
       "    --sklearn-color-icon: #878787;\n",
       "  }\n",
       "}\n",
       "\n",
       "#sk-container-id-6 {\n",
       "  color: var(--sklearn-color-text);\n",
       "}\n",
       "\n",
       "#sk-container-id-6 pre {\n",
       "  padding: 0;\n",
       "}\n",
       "\n",
       "#sk-container-id-6 input.sk-hidden--visually {\n",
       "  border: 0;\n",
       "  clip: rect(1px 1px 1px 1px);\n",
       "  clip: rect(1px, 1px, 1px, 1px);\n",
       "  height: 1px;\n",
       "  margin: -1px;\n",
       "  overflow: hidden;\n",
       "  padding: 0;\n",
       "  position: absolute;\n",
       "  width: 1px;\n",
       "}\n",
       "\n",
       "#sk-container-id-6 div.sk-dashed-wrapped {\n",
       "  border: 1px dashed var(--sklearn-color-line);\n",
       "  margin: 0 0.4em 0.5em 0.4em;\n",
       "  box-sizing: border-box;\n",
       "  padding-bottom: 0.4em;\n",
       "  background-color: var(--sklearn-color-background);\n",
       "}\n",
       "\n",
       "#sk-container-id-6 div.sk-container {\n",
       "  /* jupyter's `normalize.less` sets `[hidden] { display: none; }`\n",
       "     but bootstrap.min.css set `[hidden] { display: none !important; }`\n",
       "     so we also need the `!important` here to be able to override the\n",
       "     default hidden behavior on the sphinx rendered scikit-learn.org.\n",
       "     See: https://github.com/scikit-learn/scikit-learn/issues/21755 */\n",
       "  display: inline-block !important;\n",
       "  position: relative;\n",
       "}\n",
       "\n",
       "#sk-container-id-6 div.sk-text-repr-fallback {\n",
       "  display: none;\n",
       "}\n",
       "\n",
       "div.sk-parallel-item,\n",
       "div.sk-serial,\n",
       "div.sk-item {\n",
       "  /* draw centered vertical line to link estimators */\n",
       "  background-image: linear-gradient(var(--sklearn-color-text-on-default-background), var(--sklearn-color-text-on-default-background));\n",
       "  background-size: 2px 100%;\n",
       "  background-repeat: no-repeat;\n",
       "  background-position: center center;\n",
       "}\n",
       "\n",
       "/* Parallel-specific style estimator block */\n",
       "\n",
       "#sk-container-id-6 div.sk-parallel-item::after {\n",
       "  content: \"\";\n",
       "  width: 100%;\n",
       "  border-bottom: 2px solid var(--sklearn-color-text-on-default-background);\n",
       "  flex-grow: 1;\n",
       "}\n",
       "\n",
       "#sk-container-id-6 div.sk-parallel {\n",
       "  display: flex;\n",
       "  align-items: stretch;\n",
       "  justify-content: center;\n",
       "  background-color: var(--sklearn-color-background);\n",
       "  position: relative;\n",
       "}\n",
       "\n",
       "#sk-container-id-6 div.sk-parallel-item {\n",
       "  display: flex;\n",
       "  flex-direction: column;\n",
       "}\n",
       "\n",
       "#sk-container-id-6 div.sk-parallel-item:first-child::after {\n",
       "  align-self: flex-end;\n",
       "  width: 50%;\n",
       "}\n",
       "\n",
       "#sk-container-id-6 div.sk-parallel-item:last-child::after {\n",
       "  align-self: flex-start;\n",
       "  width: 50%;\n",
       "}\n",
       "\n",
       "#sk-container-id-6 div.sk-parallel-item:only-child::after {\n",
       "  width: 0;\n",
       "}\n",
       "\n",
       "/* Serial-specific style estimator block */\n",
       "\n",
       "#sk-container-id-6 div.sk-serial {\n",
       "  display: flex;\n",
       "  flex-direction: column;\n",
       "  align-items: center;\n",
       "  background-color: var(--sklearn-color-background);\n",
       "  padding-right: 1em;\n",
       "  padding-left: 1em;\n",
       "}\n",
       "\n",
       "\n",
       "/* Toggleable style: style used for estimator/Pipeline/ColumnTransformer box that is\n",
       "clickable and can be expanded/collapsed.\n",
       "- Pipeline and ColumnTransformer use this feature and define the default style\n",
       "- Estimators will overwrite some part of the style using the `sk-estimator` class\n",
       "*/\n",
       "\n",
       "/* Pipeline and ColumnTransformer style (default) */\n",
       "\n",
       "#sk-container-id-6 div.sk-toggleable {\n",
       "  /* Default theme specific background. It is overwritten whether we have a\n",
       "  specific estimator or a Pipeline/ColumnTransformer */\n",
       "  background-color: var(--sklearn-color-background);\n",
       "}\n",
       "\n",
       "/* Toggleable label */\n",
       "#sk-container-id-6 label.sk-toggleable__label {\n",
       "  cursor: pointer;\n",
       "  display: block;\n",
       "  width: 100%;\n",
       "  margin-bottom: 0;\n",
       "  padding: 0.5em;\n",
       "  box-sizing: border-box;\n",
       "  text-align: center;\n",
       "}\n",
       "\n",
       "#sk-container-id-6 label.sk-toggleable__label-arrow:before {\n",
       "  /* Arrow on the left of the label */\n",
       "  content: \"▸\";\n",
       "  float: left;\n",
       "  margin-right: 0.25em;\n",
       "  color: var(--sklearn-color-icon);\n",
       "}\n",
       "\n",
       "#sk-container-id-6 label.sk-toggleable__label-arrow:hover:before {\n",
       "  color: var(--sklearn-color-text);\n",
       "}\n",
       "\n",
       "/* Toggleable content - dropdown */\n",
       "\n",
       "#sk-container-id-6 div.sk-toggleable__content {\n",
       "  max-height: 0;\n",
       "  max-width: 0;\n",
       "  overflow: hidden;\n",
       "  text-align: left;\n",
       "  /* unfitted */\n",
       "  background-color: var(--sklearn-color-unfitted-level-0);\n",
       "}\n",
       "\n",
       "#sk-container-id-6 div.sk-toggleable__content.fitted {\n",
       "  /* fitted */\n",
       "  background-color: var(--sklearn-color-fitted-level-0);\n",
       "}\n",
       "\n",
       "#sk-container-id-6 div.sk-toggleable__content pre {\n",
       "  margin: 0.2em;\n",
       "  border-radius: 0.25em;\n",
       "  color: var(--sklearn-color-text);\n",
       "  /* unfitted */\n",
       "  background-color: var(--sklearn-color-unfitted-level-0);\n",
       "}\n",
       "\n",
       "#sk-container-id-6 div.sk-toggleable__content.fitted pre {\n",
       "  /* unfitted */\n",
       "  background-color: var(--sklearn-color-fitted-level-0);\n",
       "}\n",
       "\n",
       "#sk-container-id-6 input.sk-toggleable__control:checked~div.sk-toggleable__content {\n",
       "  /* Expand drop-down */\n",
       "  max-height: 200px;\n",
       "  max-width: 100%;\n",
       "  overflow: auto;\n",
       "}\n",
       "\n",
       "#sk-container-id-6 input.sk-toggleable__control:checked~label.sk-toggleable__label-arrow:before {\n",
       "  content: \"▾\";\n",
       "}\n",
       "\n",
       "/* Pipeline/ColumnTransformer-specific style */\n",
       "\n",
       "#sk-container-id-6 div.sk-label input.sk-toggleable__control:checked~label.sk-toggleable__label {\n",
       "  color: var(--sklearn-color-text);\n",
       "  background-color: var(--sklearn-color-unfitted-level-2);\n",
       "}\n",
       "\n",
       "#sk-container-id-6 div.sk-label.fitted input.sk-toggleable__control:checked~label.sk-toggleable__label {\n",
       "  background-color: var(--sklearn-color-fitted-level-2);\n",
       "}\n",
       "\n",
       "/* Estimator-specific style */\n",
       "\n",
       "/* Colorize estimator box */\n",
       "#sk-container-id-6 div.sk-estimator input.sk-toggleable__control:checked~label.sk-toggleable__label {\n",
       "  /* unfitted */\n",
       "  background-color: var(--sklearn-color-unfitted-level-2);\n",
       "}\n",
       "\n",
       "#sk-container-id-6 div.sk-estimator.fitted input.sk-toggleable__control:checked~label.sk-toggleable__label {\n",
       "  /* fitted */\n",
       "  background-color: var(--sklearn-color-fitted-level-2);\n",
       "}\n",
       "\n",
       "#sk-container-id-6 div.sk-label label.sk-toggleable__label,\n",
       "#sk-container-id-6 div.sk-label label {\n",
       "  /* The background is the default theme color */\n",
       "  color: var(--sklearn-color-text-on-default-background);\n",
       "}\n",
       "\n",
       "/* On hover, darken the color of the background */\n",
       "#sk-container-id-6 div.sk-label:hover label.sk-toggleable__label {\n",
       "  color: var(--sklearn-color-text);\n",
       "  background-color: var(--sklearn-color-unfitted-level-2);\n",
       "}\n",
       "\n",
       "/* Label box, darken color on hover, fitted */\n",
       "#sk-container-id-6 div.sk-label.fitted:hover label.sk-toggleable__label.fitted {\n",
       "  color: var(--sklearn-color-text);\n",
       "  background-color: var(--sklearn-color-fitted-level-2);\n",
       "}\n",
       "\n",
       "/* Estimator label */\n",
       "\n",
       "#sk-container-id-6 div.sk-label label {\n",
       "  font-family: monospace;\n",
       "  font-weight: bold;\n",
       "  display: inline-block;\n",
       "  line-height: 1.2em;\n",
       "}\n",
       "\n",
       "#sk-container-id-6 div.sk-label-container {\n",
       "  text-align: center;\n",
       "}\n",
       "\n",
       "/* Estimator-specific */\n",
       "#sk-container-id-6 div.sk-estimator {\n",
       "  font-family: monospace;\n",
       "  border: 1px dotted var(--sklearn-color-border-box);\n",
       "  border-radius: 0.25em;\n",
       "  box-sizing: border-box;\n",
       "  margin-bottom: 0.5em;\n",
       "  /* unfitted */\n",
       "  background-color: var(--sklearn-color-unfitted-level-0);\n",
       "}\n",
       "\n",
       "#sk-container-id-6 div.sk-estimator.fitted {\n",
       "  /* fitted */\n",
       "  background-color: var(--sklearn-color-fitted-level-0);\n",
       "}\n",
       "\n",
       "/* on hover */\n",
       "#sk-container-id-6 div.sk-estimator:hover {\n",
       "  /* unfitted */\n",
       "  background-color: var(--sklearn-color-unfitted-level-2);\n",
       "}\n",
       "\n",
       "#sk-container-id-6 div.sk-estimator.fitted:hover {\n",
       "  /* fitted */\n",
       "  background-color: var(--sklearn-color-fitted-level-2);\n",
       "}\n",
       "\n",
       "/* Specification for estimator info (e.g. \"i\" and \"?\") */\n",
       "\n",
       "/* Common style for \"i\" and \"?\" */\n",
       "\n",
       ".sk-estimator-doc-link,\n",
       "a:link.sk-estimator-doc-link,\n",
       "a:visited.sk-estimator-doc-link {\n",
       "  float: right;\n",
       "  font-size: smaller;\n",
       "  line-height: 1em;\n",
       "  font-family: monospace;\n",
       "  background-color: var(--sklearn-color-background);\n",
       "  border-radius: 1em;\n",
       "  height: 1em;\n",
       "  width: 1em;\n",
       "  text-decoration: none !important;\n",
       "  margin-left: 1ex;\n",
       "  /* unfitted */\n",
       "  border: var(--sklearn-color-unfitted-level-1) 1pt solid;\n",
       "  color: var(--sklearn-color-unfitted-level-1);\n",
       "}\n",
       "\n",
       ".sk-estimator-doc-link.fitted,\n",
       "a:link.sk-estimator-doc-link.fitted,\n",
       "a:visited.sk-estimator-doc-link.fitted {\n",
       "  /* fitted */\n",
       "  border: var(--sklearn-color-fitted-level-1) 1pt solid;\n",
       "  color: var(--sklearn-color-fitted-level-1);\n",
       "}\n",
       "\n",
       "/* On hover */\n",
       "div.sk-estimator:hover .sk-estimator-doc-link:hover,\n",
       ".sk-estimator-doc-link:hover,\n",
       "div.sk-label-container:hover .sk-estimator-doc-link:hover,\n",
       ".sk-estimator-doc-link:hover {\n",
       "  /* unfitted */\n",
       "  background-color: var(--sklearn-color-unfitted-level-3);\n",
       "  color: var(--sklearn-color-background);\n",
       "  text-decoration: none;\n",
       "}\n",
       "\n",
       "div.sk-estimator.fitted:hover .sk-estimator-doc-link.fitted:hover,\n",
       ".sk-estimator-doc-link.fitted:hover,\n",
       "div.sk-label-container:hover .sk-estimator-doc-link.fitted:hover,\n",
       ".sk-estimator-doc-link.fitted:hover {\n",
       "  /* fitted */\n",
       "  background-color: var(--sklearn-color-fitted-level-3);\n",
       "  color: var(--sklearn-color-background);\n",
       "  text-decoration: none;\n",
       "}\n",
       "\n",
       "/* Span, style for the box shown on hovering the info icon */\n",
       ".sk-estimator-doc-link span {\n",
       "  display: none;\n",
       "  z-index: 9999;\n",
       "  position: relative;\n",
       "  font-weight: normal;\n",
       "  right: .2ex;\n",
       "  padding: .5ex;\n",
       "  margin: .5ex;\n",
       "  width: min-content;\n",
       "  min-width: 20ex;\n",
       "  max-width: 50ex;\n",
       "  color: var(--sklearn-color-text);\n",
       "  box-shadow: 2pt 2pt 4pt #999;\n",
       "  /* unfitted */\n",
       "  background: var(--sklearn-color-unfitted-level-0);\n",
       "  border: .5pt solid var(--sklearn-color-unfitted-level-3);\n",
       "}\n",
       "\n",
       ".sk-estimator-doc-link.fitted span {\n",
       "  /* fitted */\n",
       "  background: var(--sklearn-color-fitted-level-0);\n",
       "  border: var(--sklearn-color-fitted-level-3);\n",
       "}\n",
       "\n",
       ".sk-estimator-doc-link:hover span {\n",
       "  display: block;\n",
       "}\n",
       "\n",
       "/* \"?\"-specific style due to the `<a>` HTML tag */\n",
       "\n",
       "#sk-container-id-6 a.estimator_doc_link {\n",
       "  float: right;\n",
       "  font-size: 1rem;\n",
       "  line-height: 1em;\n",
       "  font-family: monospace;\n",
       "  background-color: var(--sklearn-color-background);\n",
       "  border-radius: 1rem;\n",
       "  height: 1rem;\n",
       "  width: 1rem;\n",
       "  text-decoration: none;\n",
       "  /* unfitted */\n",
       "  color: var(--sklearn-color-unfitted-level-1);\n",
       "  border: var(--sklearn-color-unfitted-level-1) 1pt solid;\n",
       "}\n",
       "\n",
       "#sk-container-id-6 a.estimator_doc_link.fitted {\n",
       "  /* fitted */\n",
       "  border: var(--sklearn-color-fitted-level-1) 1pt solid;\n",
       "  color: var(--sklearn-color-fitted-level-1);\n",
       "}\n",
       "\n",
       "/* On hover */\n",
       "#sk-container-id-6 a.estimator_doc_link:hover {\n",
       "  /* unfitted */\n",
       "  background-color: var(--sklearn-color-unfitted-level-3);\n",
       "  color: var(--sklearn-color-background);\n",
       "  text-decoration: none;\n",
       "}\n",
       "\n",
       "#sk-container-id-6 a.estimator_doc_link.fitted:hover {\n",
       "  /* fitted */\n",
       "  background-color: var(--sklearn-color-fitted-level-3);\n",
       "}\n",
       "</style><div id=\"sk-container-id-6\" class=\"sk-top-container\"><div class=\"sk-text-repr-fallback\"><pre>RandomForestClassifier(random_state=42)</pre><b>In a Jupyter environment, please rerun this cell to show the HTML representation or trust the notebook. <br />On GitHub, the HTML representation is unable to render, please try loading this page with nbviewer.org.</b></div><div class=\"sk-container\" hidden><div class=\"sk-item\"><div class=\"sk-estimator fitted sk-toggleable\"><input class=\"sk-toggleable__control sk-hidden--visually\" id=\"sk-estimator-id-6\" type=\"checkbox\" checked><label for=\"sk-estimator-id-6\" class=\"sk-toggleable__label fitted sk-toggleable__label-arrow fitted\">&nbsp;&nbsp;RandomForestClassifier<a class=\"sk-estimator-doc-link fitted\" rel=\"noreferrer\" target=\"_blank\" href=\"https://scikit-learn.org/1.4/modules/generated/sklearn.ensemble.RandomForestClassifier.html\">?<span>Documentation for RandomForestClassifier</span></a><span class=\"sk-estimator-doc-link fitted\">i<span>Fitted</span></span></label><div class=\"sk-toggleable__content fitted\"><pre>RandomForestClassifier(random_state=42)</pre></div> </div></div></div></div>"
      ],
      "text/plain": [
       "RandomForestClassifier(random_state=42)"
      ]
     },
     "execution_count": 146,
     "metadata": {},
     "output_type": "execute_result"
    }
   ],
   "source": [
    "# Example of creating a DataFrame\n",
    "data = {\n",
    "    'IP': ['52.144.24.216', '112.143.138.80', '40.182.107.100', '211.153.159.223', '36.220.143.38'],\n",
    "    'Latitude': [-56.483969, -45.400968, -68.770208, -25.273061, -25.204827],\n",
    "    'Longitude': [-168.623968, 175.496752, 178.272550, 149.566618, 116.367779],\n",
    "    'Access': ['Denied', 'Denied', 'Denied', 'Denied', 'Denied']\n",
    "}\n",
    "df = pd.DataFrame(data)\n",
    "\n",
    "# Define features and labels\n",
    "X = df[['Latitude', 'Longitude']]  # Features\n",
    "y = df['Access'].apply(lambda x: 1 if x == 'Granted' else 0)  # Convert labels to binary\n",
    "\n",
    "# Split the data\n",
    "X_train, X_test, y_train, y_test = train_test_split(X, y, test_size=0.2, random_state=42)\n",
    "\n",
    "# Assuming you have a trained model (Example: RandomForestClassifier)\n",
    "from sklearn.ensemble import RandomForestClassifier\n",
    "model = RandomForestClassifier(n_estimators=100, random_state=42)\n",
    "model.fit(X_train, y_train)\n"
   ]
  },
  {
   "cell_type": "code",
   "execution_count": 147,
   "id": "0405d711",
   "metadata": {
    "colab": {
     "base_uri": "https://localhost:8080/"
    },
    "id": "0405d711",
    "outputId": "70fc2715-e69c-4133-c946-258e24b159cf"
   },
   "outputs": [
    {
     "name": "stderr",
     "output_type": "stream",
     "text": [
      "c:\\Python311\\Lib\\site-packages\\sklearn\\base.py:493: UserWarning: X does not have valid feature names, but RandomForestClassifier was fitted with feature names\n",
      "  warnings.warn(\n"
     ]
    },
    {
     "data": {
      "image/png": "[encoded data removed]",
      "text/plain": [
       "<Figure size 640x480 with 1 Axes>"
      ]
     },
     "metadata": {},
     "output_type": "display_data"
    }
   ],
   "source": [
    "import numpy as np\n",
    "import matplotlib.colors as mcolors\n",
    "import matplotlib.pyplot as plt\n",
    "\n",
    "def plot_decision_boundaries(X, y, model, ax):\n",
    "    cmap_light = mcolors.ListedColormap(['#FFAAAA', '#AAFFAA'])\n",
    "    cmap_bold = mcolors.ListedColormap(['#FF0000', '#00FF00'])\n",
    "\n",
    "    x_min, x_max = X.iloc[:, 0].min() - 1, X.iloc[:, 0].max() + 1\n",
    "    y_min, y_max = X.iloc[:, 1].min() - 1, X.iloc[:, 1].max() + 1\n",
    "    xx, yy = np.meshgrid(np.arange(x_min, x_max, .02),\n",
    "                         np.arange(y_min, y_max, .02))\n",
    "\n",
    "    Z = model.predict(np.c_[xx.ravel(), yy.ravel()])\n",
    "    Z = Z.reshape(xx.shape)\n",
    "    ax.pcolormesh(xx, yy, Z, cmap=cmap_light)\n",
    "\n",
    "    # Plot also the training points\n",
    "    ax.scatter(X.iloc[:, 0], X.iloc[:, 1], c=y, cmap=cmap_bold)\n",
    "    ax.set_xlim(xx.min(), xx.max())\n",
    "    ax.set_ylim(yy.min(), yy.max())\n",
    "    ax.set_title('Decision Boundaries')\n",
    "\n",
    "fig, ax = plt.subplots()\n",
    "plot_decision_boundaries(X_train, y_train, model, ax)\n",
    "plt.show()"
   ]
  },
  {
   "cell_type": "code",
   "execution_count": 148,
   "id": "f5a18e78",
   "metadata": {},
   "outputs": [],
   "source": [
    "\n",
    "import geopy.distance\n",
    "\n",
    "def whitelist_locations(df, center_lat, center_lon, radius_km):\n",
    "    center = (center_lat, center_lon)\n",
    "    def is_within_radius(lat, lon):\n",
    "        return geopy.distance.distance((lat, lon), center).km < radius_km\n",
    "\n",
    "    df['Whitelisted'] = df.apply(lambda row: is_within_radius(row['Latitude'], row['Longitude']), axis=1)\n",
    "    return df[df['Whitelisted']]\n"
   ]
  },
  {
   "cell_type": "code",
   "execution_count": 149,
   "id": "d03b179c",
   "metadata": {},
   "outputs": [
    {
     "name": "stdout",
     "output_type": "stream",
     "text": [
      "Model accuracy: 0.932\n"
     ]
    }
   ],
   "source": [
    "\n",
    "from sklearn.ensemble import RandomForestClassifier\n",
    "from sklearn.datasets import make_classification\n",
    "from sklearn.model_selection import train_test_split\n",
    "import pickle\n",
    "\n",
    "X, y = make_classification(n_samples=1000, n_features=20, n_informative=2, n_redundant=10, random_state=42)\n",
    "X_train, X_test, y_train, y_test = train_test_split(X, y, test_size=0.25, random_state=42)\n",
    "\n",
    "model = RandomForestClassifier(n_estimators=100, random_state=42)\n",
    "model.fit(X_train, y_train)\n",
    "\n",
    "model_path = '../models/security_model.pkl'\n",
    "with open(model_path, 'wb') as file:\n",
    "    pickle.dump(model, file)\n",
    "\n",
    "with open(model_path, 'rb') as file:\n",
    "    loaded_model = pickle.load(file)\n",
    "\n",
    "accuracy = loaded_model.score(X_test, y_test)\n",
    "print('Model accuracy:', accuracy)"
   ]
  }
 ],
 "metadata": {
  "colab": {
   "provenance": []
  },
  "kernelspec": {
   "display_name": "Python 3",
   "language": "python",
   "name": "python3"
  },
  "language_info": {
   "codemirror_mode": {
    "name": "ipython",
    "version": 3
   },
   "file_extension": ".py",
   "mimetype": "text/x-python",
   "name": "python",
   "nbconvert_exporter": "python",
   "pygments_lexer": "ipython3",
   "version": "3.11.5"
  },
  "polyglot_notebook": {
   "kernelInfo": {
    "defaultKernelName": "csharp",
    "items": [
     {
      "aliases": [],
      "name": "csharp"
     }
    ]
   }
  }
 },
 "nbformat": 4,
 "nbformat_minor": 5
}
